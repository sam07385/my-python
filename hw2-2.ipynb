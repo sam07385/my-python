{
 "cells": [
  {
   "cell_type": "markdown",
   "metadata": {},
   "source": [
    "# 星座辨別"
   ]
  },
  {
   "cell_type": "code",
   "execution_count": 6,
   "metadata": {},
   "outputs": [
    {
     "name": "stdout",
     "output_type": "stream",
     "text": [
      "幾月:12\n",
      "幾號:30\n",
      "魔羯\n"
     ]
    }
   ],
   "source": [
    "month = float(input('幾月:'))\n",
    "date = float(input('幾號:'))\n",
    "if month ==3:\n",
    "    if date >=21:\n",
    "        print('牡羊')\n",
    "    else: \n",
    "        print('雙魚')\n",
    "elif month ==4:\n",
    "    if date >=20:\n",
    "        print('金牛')\n",
    "    else:\n",
    "        print('牡羊')\n",
    "elif month ==5:\n",
    "    if date>=21:\n",
    "        print('雙子')\n",
    "    else:\n",
    "        print('金牛')\n",
    "elif month ==6:\n",
    "    if date >=22:\n",
    "        print('巨蟹')\n",
    "    else:\n",
    "        print('雙子')\n",
    "elif month ==7:\n",
    "    if date >=23:\n",
    "        print('獅子')\n",
    "    else:\n",
    "        print('巨蟹')\n",
    "elif month ==8:\n",
    "    if date >=23:\n",
    "        print('處女')\n",
    "    else:\n",
    "        print('獅子')\n",
    "elif month ==9:\n",
    "    if date >=23:\n",
    "        print('天秤')\n",
    "    else:\n",
    "        print('處女')\n",
    "elif month ==10:\n",
    "    if date >=24:\n",
    "        print('天蠍')\n",
    "    else:\n",
    "        print('天秤')\n",
    "elif month ==11:\n",
    "    if date >=23:\n",
    "        print('射手')\n",
    "    else:\n",
    "        print('天蠍')\n",
    "elif month ==12:\n",
    "    if date >=22:\n",
    "        print('魔羯')\n",
    "    else:\n",
    "        print('射手')\n",
    "elif month ==1:\n",
    "    if date >=20:\n",
    "        print('水瓶')\n",
    "    else:\n",
    "        print('魔羯')\n",
    "else:\n",
    "    if date >=19:\n",
    "        print('雙魚')\n",
    "    else:\n",
    "        print('水瓶')"
   ]
  },
  {
   "cell_type": "code",
   "execution_count": null,
   "metadata": {},
   "outputs": [],
   "source": []
  },
  {
   "cell_type": "code",
   "execution_count": null,
   "metadata": {},
   "outputs": [],
   "source": []
  }
 ],
 "metadata": {
  "kernelspec": {
   "display_name": "Python 3",
   "language": "python",
   "name": "python3"
  },
  "language_info": {
   "codemirror_mode": {
    "name": "ipython",
    "version": 3
   },
   "file_extension": ".py",
   "mimetype": "text/x-python",
   "name": "python",
   "nbconvert_exporter": "python",
   "pygments_lexer": "ipython3",
   "version": "3.7.4"
  }
 },
 "nbformat": 4,
 "nbformat_minor": 2
}
