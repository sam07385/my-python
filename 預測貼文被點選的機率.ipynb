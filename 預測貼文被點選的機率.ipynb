{
 "cells": [
  {
   "cell_type": "code",
   "execution_count": 1,
   "metadata": {},
   "outputs": [],
   "source": [
    "import numpy as np "
   ]
  },
  {
   "cell_type": "code",
   "execution_count": 2,
   "metadata": {},
   "outputs": [],
   "source": [
    "class NeuralNetwork(): \n",
    "    def __init__(self): \n",
    "        np.random.seed(1) \n",
    "        self.synaptic_weights = 2 * np.random.random((3, 1)) - 1 \n",
    "        \n",
    "    def sigmoid(self, x):\n",
    "        return 1 / (1 + np.exp(-x)) \n",
    "    \n",
    "    def sigmoid_derivative(self, x): \n",
    "        return x * (1 - x)\n",
    "\n",
    "    def train(self, training_inputs, training_outputs,learn_rate, training_iterations): \n",
    "        for iteration in range(training_iterations): \n",
    "            output = self.think(training_inputs) \n",
    "            error = training_outputs - output \n",
    "            adjustments = np.dot(training_inputs.T, error * self.sigmoid_derivative(output)) \n",
    "            self.synaptic_weights += learn_rate*adjustments\n",
    "            \n",
    "    def think(self, inputs): \n",
    "        inputs = inputs.astype(float) \n",
    "        output = self.sigmoid(np.dot(inputs, self.synaptic_weights)) \n",
    "        return output "
   ]
  },
  {
   "cell_type": "code",
   "execution_count": 3,
   "metadata": {},
   "outputs": [
    {
     "name": "stdout",
     "output_type": "stream",
     "text": [
      "隨機初始化的權重矩陣\n",
      "[[-0.16595599]\n",
      " [ 0.44064899]\n",
      " [-0.99977125]]\n",
      "迭代計算之後權重矩陣: \n",
      "[[10.08717036]\n",
      " [-0.20694058]\n",
      " [-4.83746674]]\n",
      "該貼文被點選的機率：\n",
      "[0.00786477]\n"
     ]
    }
   ],
   "source": [
    "if __name__ == \"__main__\": \n",
    "    neural_network = NeuralNetwork() \n",
    "    print(\"隨機初始化的權重矩陣\")\n",
    "    print(neural_network.synaptic_weights)\n",
    "    train_data=[[0,0,1], [1,1,1], [1,0,1], [0,1,1]]\n",
    "    training_inputs = np.array(train_data) \n",
    "    training_outputs = np.array([[0,1,1,0]]).T \n",
    "# 定義模型的引數學習率，設個0.1\n",
    "    learn_rate=0.1\n",
    "# 模型迭代的次數\n",
    "    epoch=150000\n",
    "    neural_network.train(training_inputs, training_outputs, learn_rate, epoch) \n",
    "    print(\"迭代計算之後權重矩陣: \")\n",
    "    print(neural_network.synaptic_weights)\n",
    "# 模擬需要預測的資料X\n",
    "    pre_data=[0,0,1]\n",
    "# 使用訓練的模型預測該微博被點選的概率\n",
    "    print(\"該貼文被點選的機率：\")\n",
    "    print(neural_network.think(np.array(pre_data)))"
   ]
  },
  {
   "cell_type": "markdown",
   "metadata": {},
   "source": [
    "那這則貼文被點選的機率就非常低!!!!"
   ]
  },
  {
   "cell_type": "code",
   "execution_count": null,
   "metadata": {},
   "outputs": [],
   "source": []
  }
 ],
 "metadata": {
  "kernelspec": {
   "display_name": "Python 3",
   "language": "python",
   "name": "python3"
  },
  "language_info": {
   "codemirror_mode": {
    "name": "ipython",
    "version": 3
   },
   "file_extension": ".py",
   "mimetype": "text/x-python",
   "name": "python",
   "nbconvert_exporter": "python",
   "pygments_lexer": "ipython3",
   "version": "3.7.3"
  }
 },
 "nbformat": 4,
 "nbformat_minor": 2
}
