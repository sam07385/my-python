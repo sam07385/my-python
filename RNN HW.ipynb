{
 "cells": [
  {
   "cell_type": "code",
   "execution_count": 24,
   "metadata": {},
   "outputs": [],
   "source": [
    "%matplotlib inline\n",
    "\n",
    "import numpy as np\n",
    "import matplotlib.pyplot as plt\n",
    "import pandas as pd"
   ]
  },
  {
   "cell_type": "markdown",
   "metadata": {},
   "source": [
    "# 1.讀入深度學習套件"
   ]
  },
  {
   "cell_type": "code",
   "execution_count": 25,
   "metadata": {},
   "outputs": [],
   "source": [
    "from tensorflow.keras.preprocessing import sequence \n",
    "from tensorflow.keras.models import Sequential \n",
    "from tensorflow.keras.layers import Dense, Embedding \n",
    "from tensorflow.keras.layers import LSTM\n",
    "from tensorflow.keras.datasets import imdb"
   ]
  },
  {
   "cell_type": "markdown",
   "metadata": {},
   "source": [
    "# 2.讀入數據"
   ]
  },
  {
   "cell_type": "code",
   "execution_count": 26,
   "metadata": {},
   "outputs": [],
   "source": [
    "(x_train,y_train),(x_test,y_test)= imdb.load_data(num_words=7500)"
   ]
  },
  {
   "cell_type": "code",
   "execution_count": 27,
   "metadata": {},
   "outputs": [
    {
     "data": {
      "text/plain": [
       "25000"
      ]
     },
     "execution_count": 27,
     "metadata": {},
     "output_type": "execute_result"
    }
   ],
   "source": [
    "len(x_train)"
   ]
  },
  {
   "cell_type": "code",
   "execution_count": 28,
   "metadata": {},
   "outputs": [
    {
     "data": {
      "text/plain": [
       "[1,\n",
       " 13,\n",
       " 244,\n",
       " 6,\n",
       " 87,\n",
       " 337,\n",
       " 7,\n",
       " 628,\n",
       " 2219,\n",
       " 5,\n",
       " 28,\n",
       " 285,\n",
       " 15,\n",
       " 240,\n",
       " 93,\n",
       " 23,\n",
       " 288,\n",
       " 549,\n",
       " 18,\n",
       " 1455,\n",
       " 673,\n",
       " 4,\n",
       " 241,\n",
       " 534,\n",
       " 3635,\n",
       " 2,\n",
       " 20,\n",
       " 38,\n",
       " 54,\n",
       " 13,\n",
       " 258,\n",
       " 46,\n",
       " 44,\n",
       " 14,\n",
       " 13,\n",
       " 1241,\n",
       " 7258,\n",
       " 12,\n",
       " 5,\n",
       " 5,\n",
       " 51,\n",
       " 9,\n",
       " 14,\n",
       " 45,\n",
       " 6,\n",
       " 762,\n",
       " 7,\n",
       " 2,\n",
       " 1309,\n",
       " 328,\n",
       " 5,\n",
       " 428,\n",
       " 2473,\n",
       " 15,\n",
       " 26,\n",
       " 1292,\n",
       " 5,\n",
       " 3939,\n",
       " 6728,\n",
       " 5,\n",
       " 1960,\n",
       " 279,\n",
       " 13,\n",
       " 92,\n",
       " 124,\n",
       " 803,\n",
       " 52,\n",
       " 21,\n",
       " 279,\n",
       " 14,\n",
       " 9,\n",
       " 43,\n",
       " 6,\n",
       " 762,\n",
       " 7,\n",
       " 595,\n",
       " 15,\n",
       " 16,\n",
       " 2,\n",
       " 23,\n",
       " 4,\n",
       " 1071,\n",
       " 467,\n",
       " 4,\n",
       " 403,\n",
       " 7,\n",
       " 628,\n",
       " 2219,\n",
       " 8,\n",
       " 97,\n",
       " 6,\n",
       " 171,\n",
       " 3596,\n",
       " 99,\n",
       " 387,\n",
       " 72,\n",
       " 97,\n",
       " 12,\n",
       " 788,\n",
       " 15,\n",
       " 13,\n",
       " 161,\n",
       " 459,\n",
       " 44,\n",
       " 4,\n",
       " 3939,\n",
       " 1101,\n",
       " 173,\n",
       " 21,\n",
       " 69,\n",
       " 8,\n",
       " 401,\n",
       " 2,\n",
       " 4,\n",
       " 481,\n",
       " 88,\n",
       " 61,\n",
       " 4731,\n",
       " 238,\n",
       " 28,\n",
       " 32,\n",
       " 11,\n",
       " 32,\n",
       " 14,\n",
       " 9,\n",
       " 6,\n",
       " 545,\n",
       " 1332,\n",
       " 766,\n",
       " 5,\n",
       " 203,\n",
       " 73,\n",
       " 28,\n",
       " 43,\n",
       " 77,\n",
       " 317,\n",
       " 11,\n",
       " 4,\n",
       " 2,\n",
       " 953,\n",
       " 270,\n",
       " 17,\n",
       " 6,\n",
       " 3616,\n",
       " 13,\n",
       " 545,\n",
       " 386,\n",
       " 25,\n",
       " 92,\n",
       " 1142,\n",
       " 129,\n",
       " 278,\n",
       " 23,\n",
       " 14,\n",
       " 241,\n",
       " 46,\n",
       " 7,\n",
       " 158]"
      ]
     },
     "execution_count": 28,
     "metadata": {},
     "output_type": "execute_result"
    }
   ],
   "source": [
    "x_train[100]"
   ]
  },
  {
   "cell_type": "code",
   "execution_count": 29,
   "metadata": {},
   "outputs": [
    {
     "data": {
      "text/plain": [
       "0"
      ]
     },
     "execution_count": 29,
     "metadata": {},
     "output_type": "execute_result"
    }
   ],
   "source": [
    "y_train[100] #第101個資料為負評"
   ]
  },
  {
   "cell_type": "code",
   "execution_count": 30,
   "metadata": {},
   "outputs": [
    {
     "data": {
      "text/plain": [
       "158"
      ]
     },
     "execution_count": 30,
     "metadata": {},
     "output_type": "execute_result"
    }
   ],
   "source": [
    "len(x_train[100]) #第101個資料有158個字"
   ]
  },
  {
   "cell_type": "markdown",
   "metadata": {},
   "source": [
    "# 3.資料處理"
   ]
  },
  {
   "cell_type": "code",
   "execution_count": 31,
   "metadata": {},
   "outputs": [],
   "source": [
    "x_train= sequence.pad_sequences(x_train, maxlen=80)\n",
    "x_test= sequence.pad_sequences(x_test, maxlen=80)"
   ]
  },
  {
   "cell_type": "markdown",
   "metadata": {},
   "source": [
    "## step1打造函數學習機"
   ]
  },
  {
   "cell_type": "code",
   "execution_count": 32,
   "metadata": {},
   "outputs": [],
   "source": [
    "model= Sequential()"
   ]
  },
  {
   "cell_type": "code",
   "execution_count": 33,
   "metadata": {},
   "outputs": [],
   "source": [
    "model.add(Embedding(7500,128))\n",
    "#壓縮成128維"
   ]
  },
  {
   "cell_type": "code",
   "execution_count": 34,
   "metadata": {},
   "outputs": [],
   "source": [
    "model.add(LSTM(64, dropout=0.1, recurrent_dropout=0.1))"
   ]
  },
  {
   "cell_type": "code",
   "execution_count": 35,
   "metadata": {},
   "outputs": [],
   "source": [
    "model.add(Dense(1, activation='sigmoid')) \n",
    "#0-1數字→選用sigmoid"
   ]
  },
  {
   "cell_type": "markdown",
   "metadata": {},
   "source": [
    "## step2組裝神經網路"
   ]
  },
  {
   "cell_type": "code",
   "execution_count": 36,
   "metadata": {},
   "outputs": [],
   "source": [
    "model.compile(loss='binary_crossentropy',\n",
    "             optimizer='adam',\n",
    "             metrics=['accuracy'])  #分類型問題可用"
   ]
  },
  {
   "cell_type": "code",
   "execution_count": 37,
   "metadata": {},
   "outputs": [
    {
     "name": "stdout",
     "output_type": "stream",
     "text": [
      "Model: \"sequential_1\"\n",
      "_________________________________________________________________\n",
      "Layer (type)                 Output Shape              Param #   \n",
      "=================================================================\n",
      "embedding_3 (Embedding)      (None, None, 128)         960000    \n",
      "_________________________________________________________________\n",
      "lstm_5 (LSTM)                (None, 64)                49408     \n",
      "_________________________________________________________________\n",
      "dense_1 (Dense)              (None, 1)                 65        \n",
      "=================================================================\n",
      "Total params: 1,009,473\n",
      "Trainable params: 1,009,473\n",
      "Non-trainable params: 0\n",
      "_________________________________________________________________\n"
     ]
    }
   ],
   "source": [
    "model.summary()"
   ]
  },
  {
   "cell_type": "markdown",
   "metadata": {},
   "source": [
    "## step3訓練"
   ]
  },
  {
   "cell_type": "code",
   "execution_count": 38,
   "metadata": {},
   "outputs": [
    {
     "name": "stdout",
     "output_type": "stream",
     "text": [
      "Train on 25000 samples, validate on 25000 samples\n",
      "Epoch 1/8\n",
      "25000/25000 [==============================] - 259s 10ms/sample - loss: 0.4365 - accuracy: 0.7965 - val_loss: 0.3678 - val_accuracy: 0.8407\n",
      "Epoch 2/8\n",
      "25000/25000 [==============================] - 258s 10ms/sample - loss: 0.3056 - accuracy: 0.8710 - val_loss: 0.3541 - val_accuracy: 0.8422\n",
      "Epoch 3/8\n",
      "25000/25000 [==============================] - 263s 11ms/sample - loss: 0.2387 - accuracy: 0.9030 - val_loss: 0.3910 - val_accuracy: 0.8312\n",
      "Epoch 4/8\n",
      "25000/25000 [==============================] - 300s 12ms/sample - loss: 0.1877 - accuracy: 0.9265 - val_loss: 0.4349 - val_accuracy: 0.8346\n",
      "Epoch 5/8\n",
      "25000/25000 [==============================] - 289s 12ms/sample - loss: 0.1427 - accuracy: 0.9455 - val_loss: 0.4900 - val_accuracy: 0.8280\n",
      "Epoch 6/8\n",
      "25000/25000 [==============================] - 247s 10ms/sample - loss: 0.1187 - accuracy: 0.9566 - val_loss: 0.5110 - val_accuracy: 0.8225\n",
      "Epoch 7/8\n",
      "25000/25000 [==============================] - 242s 10ms/sample - loss: 0.0879 - accuracy: 0.9685 - val_loss: 0.6045 - val_accuracy: 0.8247\n",
      "Epoch 8/8\n",
      "25000/25000 [==============================] - 258s 10ms/sample - loss: 0.0667 - accuracy: 0.9770 - val_loss: 0.7571 - val_accuracy: 0.8239\n"
     ]
    },
    {
     "data": {
      "text/plain": [
       "<tensorflow.python.keras.callbacks.History at 0x1480ba18b08>"
      ]
     },
     "execution_count": 38,
     "metadata": {},
     "output_type": "execute_result"
    }
   ],
   "source": [
    "model.fit(x_train, y_train, batch_size=24, epochs=8,\n",
    "         validation_data=(x_test, y_test))\n",
    "#validation: 用測試資料去算誤差(不參與訓練)"
   ]
  },
  {
   "cell_type": "code",
   "execution_count": 39,
   "metadata": {},
   "outputs": [],
   "source": [
    "model_json = model.to_json()\n",
    "open('imdb_model_architecture.json', 'w').write(model_json)\n",
    "model.save_weights('imdb_model_weights.h5')"
   ]
  },
  {
   "cell_type": "markdown",
   "metadata": {},
   "source": [
    "希望調低原本的資料看能否有同樣不錯的效果。\n",
    "\n",
    "調整項目：\n",
    "\n",
    "調降常用字數量(10000→7500)\n",
    "\n",
    "調低共同資料長度(100→80)\n",
    "\n",
    "調降LSTM數量(128→64)\n",
    "\n",
    "調低batch size(32→24)\n",
    "\n",
    "調低epochs(10→8)\n",
    "\n",
    "調低dropout ratio(0.2→0.1)\n",
    "\n",
    "最後結果也同樣不錯，accuracy:0.9770"
   ]
  },
  {
   "cell_type": "code",
   "execution_count": null,
   "metadata": {},
   "outputs": [],
   "source": []
  }
 ],
 "metadata": {
  "kernelspec": {
   "display_name": "Python 3",
   "language": "python",
   "name": "python3"
  },
  "language_info": {
   "codemirror_mode": {
    "name": "ipython",
    "version": 3
   },
   "file_extension": ".py",
   "mimetype": "text/x-python",
   "name": "python",
   "nbconvert_exporter": "python",
   "pygments_lexer": "ipython3",
   "version": "3.7.4"
  }
 },
 "nbformat": 4,
 "nbformat_minor": 2
}
