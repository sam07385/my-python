{
 "cells": [
  {
   "cell_type": "code",
   "execution_count": 1,
   "metadata": {},
   "outputs": [],
   "source": [
    "%matplotlib inline\n",
    "\n",
    "import numpy as np\n",
    "import matplotlib.pyplot as plt\n",
    "import pandas as pd"
   ]
  },
  {
   "cell_type": "code",
   "execution_count": 5,
   "metadata": {},
   "outputs": [],
   "source": [
    "from random import randint"
   ]
  },
  {
   "cell_type": "code",
   "execution_count": 6,
   "metadata": {},
   "outputs": [],
   "source": [
    "lowest = 1\n",
    "highest = 100\n",
    "answer = randint(lowest, highest)"
   ]
  },
  {
   "cell_type": "code",
   "execution_count": 7,
   "metadata": {},
   "outputs": [
    {
     "name": "stdout",
     "output_type": "stream",
     "text": [
      "密碼介於 1-100:\n",
      ">>56\n",
      "密碼介於 56-100:\n",
      ">>78\n",
      "密碼介於 56-78:\n",
      ">>69\n",
      "密碼介於 56-69:\n",
      ">>61\n",
      "答對了！\n"
     ]
    }
   ],
   "source": [
    "while True:\n",
    "    guess = input('密碼介於 ' + str(lowest) + '-' + str(highest) + ':\\n>>')\n",
    " \n",
    "    try:\n",
    "        guess = int(guess)  \n",
    "    except ValueError:  \n",
    "        print('格式錯誤，請輸入數字\\n')\n",
    "        continue\n",
    " \n",
    "    if guess <= lowest or guess >= highest:\n",
    "        print('請輸入 ' + str(lowest) + '-' + str(highest) + ' 之間的整數\\n')\n",
    "        continue\n",
    " \n",
    "    if guess == answer:\n",
    "        print('答對了！')\n",
    "        break   \n",
    "    elif guess < answer:\n",
    "        lowest = guess\n",
    "    else:\n",
    "        highest = guess\n"
   ]
  },
  {
   "cell_type": "code",
   "execution_count": null,
   "metadata": {},
   "outputs": [],
   "source": []
  }
 ],
 "metadata": {
  "kernelspec": {
   "display_name": "Python 3",
   "language": "python",
   "name": "python3"
  },
  "language_info": {
   "codemirror_mode": {
    "name": "ipython",
    "version": 3
   },
   "file_extension": ".py",
   "mimetype": "text/x-python",
   "name": "python",
   "nbconvert_exporter": "python",
   "pygments_lexer": "ipython3",
   "version": "3.7.4"
  }
 },
 "nbformat": 4,
 "nbformat_minor": 2
}
