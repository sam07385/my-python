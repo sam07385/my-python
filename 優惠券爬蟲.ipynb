{
 "cells": [
  {
   "cell_type": "code",
   "execution_count": 1,
   "metadata": {},
   "outputs": [
    {
     "name": "stdout",
     "output_type": "stream",
     "text": [
      "今天你想吃什麼><711\n",
      "https://i1.wp.com/www.7-11.com.tw/2week/191120/2019/service.jpg?ssl=1\n",
      "----------------------\n",
      "https://i0.wp.com/www.7-11.com.tw/2week/191120/2019/tea.jpg?ssl=1\n",
      "----------------------\n",
      "https://i1.wp.com/www.7-11.com.tw/2week/191120/2019/night.jpg?ssl=1\n",
      "----------------------\n",
      "https://i0.wp.com/www.7-11.com.tw/2week/191106/2019/any.jpg?ssl=1\n",
      "----------------------\n",
      "https://i2.wp.com/www.7-11.com.tw/2week/191106/2019/oden.jpg?ssl=1\n",
      "----------------------\n",
      "https://i2.wp.com/www.citycafe.com.tw/landing/image/banner.jpg?ssl=1\n",
      "----------------------\n",
      "https://i1.wp.com/www.7-11.com.tw/2week/191120/2019/sn.jpg?ssl=1\n",
      "----------------------\n",
      "https://i0.wp.com/www.7-11.com.tw/2week/191120/2019/lottery.jpg?ssl=1\n",
      "----------------------\n"
     ]
    },
    {
     "ename": "TypeError",
     "evalue": "argument of type 'NoneType' is not iterable",
     "output_type": "error",
     "traceback": [
      "\u001b[1;31m---------------------------------------------------------------------------\u001b[0m",
      "\u001b[1;31mTypeError\u001b[0m                                 Traceback (most recent call last)",
      "\u001b[1;32m<ipython-input-1-395ef09e81b8>\u001b[0m in \u001b[0;36m<module>\u001b[1;34m\u001b[0m\n\u001b[0;32m     36\u001b[0m \u001b[1;32mfor\u001b[0m \u001b[0mlink\u001b[0m \u001b[1;32min\u001b[0m \u001b[0msoup\u001b[0m\u001b[1;33m.\u001b[0m\u001b[0mfind_all\u001b[0m\u001b[1;33m(\u001b[0m\u001b[1;34m'a'\u001b[0m\u001b[1;33m)\u001b[0m\u001b[1;33m:\u001b[0m\u001b[1;33m\u001b[0m\u001b[1;33m\u001b[0m\u001b[0m\n\u001b[0;32m     37\u001b[0m     \u001b[0mans\u001b[0m \u001b[1;33m=\u001b[0m \u001b[0mlink\u001b[0m\u001b[1;33m.\u001b[0m\u001b[0mget\u001b[0m\u001b[1;33m(\u001b[0m\u001b[1;34m'href'\u001b[0m\u001b[1;33m)\u001b[0m\u001b[1;33m\u001b[0m\u001b[1;33m\u001b[0m\u001b[0m\n\u001b[1;32m---> 38\u001b[1;33m     \u001b[1;32mif\u001b[0m \u001b[1;34m\"jpg\"\u001b[0m \u001b[1;32min\u001b[0m \u001b[0mans\u001b[0m\u001b[1;33m:\u001b[0m\u001b[1;33m\u001b[0m\u001b[1;33m\u001b[0m\u001b[0m\n\u001b[0m\u001b[0;32m     39\u001b[0m         \u001b[0mprint\u001b[0m\u001b[1;33m(\u001b[0m\u001b[0mans\u001b[0m\u001b[1;33m)\u001b[0m\u001b[1;33m\u001b[0m\u001b[1;33m\u001b[0m\u001b[0m\n\u001b[0;32m     40\u001b[0m         \u001b[0mprint\u001b[0m\u001b[1;33m(\u001b[0m\u001b[1;34m\"----------------------\"\u001b[0m\u001b[1;33m)\u001b[0m\u001b[1;33m\u001b[0m\u001b[1;33m\u001b[0m\u001b[0m\n",
      "\u001b[1;31mTypeError\u001b[0m: argument of type 'NoneType' is not iterable"
     ]
    }
   ],
   "source": [
    "import requests\n",
    "import re\n",
    "from pyquery import PyQuery as pq\n",
    "from bs4 import BeautifulSoup as bs\n",
    "\n",
    "Dic = {\"麥當勞\":\"20\" , \"肯德基\":\"21\" , \"摩斯漢堡\":\"22\" \n",
    "      , \"subway\":\"23\" , \"爭鮮\":\"24\" , \"cold stone\":\"25\"\n",
    "      , \"必勝客\":\"26\" , \"達美樂\":\"27\" , \"拿坡里\":\"28\"\n",
    "      , \"王品\":\"29\" , \"西堤\":\"30\" , \"陶板屋\":\"31\"\n",
    "      , \"85度C\":\"32\" , \"星巴克\":\"33\" , \"伯朗咖啡\":\"34\"\n",
    "      , \"怡客咖啡\":\"35\" , \"丹堤咖啡\":\"36\" , \"8％ice\":\"37\"\n",
    "      , \"21世紀\":\"38\" , \"吉野家\":\"39\" , \"Mister Donut\":\"40\"\n",
    "      , \"藝奇\":\"41\" , \"夏慕尼\":\"42\" , \"聚北海道\":\"43\"\n",
    "      , \"FRIDAYS\":\"44\" , \"三商巧福\":\"45\" , \"福勝亭\":\"46\"\n",
    "      , \"漢堡王\":\"47\" , \"頂呱呱\":\"48\" , \"原燒\":\"49\"\n",
    "       , \"711\":\"1\" , \"全家\":\"2\"\n",
    "      , \"萊爾富\":\"3\" , \"OK\":\"4\" , \"全聯\":\"5\"\n",
    "      , \"家樂福\":\"6\" , \"愛買\":\"7\" , \"康是美\":\"8\"\n",
    "      , \"大潤發\":\"9\" , \"HOLA\":\"10\" , \"特力屋\":\"11\"\n",
    "      , \"屈臣氏\":\"12\" , \"劍湖山\":\"13\" , \"六福村\":\"14\"\n",
    "      , \"義大\":\"15\" , \"好市多\":\"16\" , \"九族文化村\":\"17\"\n",
    "      , \"小人國\":\"18\" , \"頂好\":\"19\" \n",
    "      ,\"義美\":\"50\" , \"悠遊卡\":\"51\" , \"一卡通\":\"52\"\n",
    "      ,\"美廉社\":\"55\" , \"寶雅\":\"56\" , \"小北百貨\":\"58\"\n",
    "      }\n",
    "\n",
    "number = Dic[input(\"今天你想吃什麼><\")]\n",
    "url = \"http://coupon.baibai.com.tw/Coupon.asp?store=\" + number\n",
    "\n",
    "res = requests.get(url)\n",
    "res.encoding = \"big5\"\n",
    "doc = pq(res.text)\n",
    "soup = bs(res.text, 'html.parser')\n",
    "#ans = soup.find('a',href = \"Coupon.asp?store=\" + number)\n",
    "#ans = soup.find_all('img')\n",
    "for link in soup.find_all('a'):\n",
    "    ans = link.get('href')\n",
    "    if \"jpg\" in ans:\n",
    "        print(ans)\n",
    "        print(\"----------------------\")\n",
    "a = input()\n",
    "\n",
    "\n"
   ]
  },
  {
   "cell_type": "code",
   "execution_count": null,
   "metadata": {},
   "outputs": [],
   "source": [
    "k = soup.find_all()"
   ]
  }
 ],
 "metadata": {
  "kernelspec": {
   "display_name": "Python 3",
   "language": "python",
   "name": "python3"
  },
  "language_info": {
   "codemirror_mode": {
    "name": "ipython",
    "version": 3
   },
   "file_extension": ".py",
   "mimetype": "text/x-python",
   "name": "python",
   "nbconvert_exporter": "python",
   "pygments_lexer": "ipython3",
   "version": "3.7.3"
  }
 },
 "nbformat": 4,
 "nbformat_minor": 2
}
