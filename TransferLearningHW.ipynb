{
 "cells": [
  {
   "cell_type": "markdown",
   "metadata": {
    "colab_type": "text",
    "id": "lRHFdNYAfWKJ"
   },
   "source": [
    "## 載入套件及資料集"
   ]
  },
  {
   "cell_type": "code",
   "execution_count": 1,
   "metadata": {
    "colab": {},
    "colab_type": "code",
    "id": "tS5xFeQwe9Xu"
   },
   "outputs": [],
   "source": [
    "import matplotlib.pyplot as plt\n",
    "import numpy as np\n",
    "# FNN\n",
    "from tensorflow.keras.models import Sequential\n",
    "from tensorflow.keras.layers import Dense\n",
    "from tensorflow.keras.layers import Flatten\n",
    "\n",
    "# CNN\n",
    "from tensorflow.keras.layers import Conv2D, MaxPool2D, GlobalAveragePooling2D\n",
    "from tensorflow.keras.optimizers import SGD, Adam\n",
    "\n",
    "# data preprocessing\n",
    "from tensorflow.keras import datasets\n",
    "from tensorflow.keras.utils import to_categorical"
   ]
  },
  {
   "cell_type": "markdown",
   "metadata": {
    "colab_type": "text",
    "id": "e8zYubaPfy-S"
   },
   "source": [
    "## 資料前處理 (Data Preprocessing)"
   ]
  },
  {
   "cell_type": "markdown",
   "metadata": {
    "colab_type": "text",
    "id": "AOAGjiPogF0w"
   },
   "source": [
    "讀取 CIFAR 10 資料集"
   ]
  },
  {
   "cell_type": "code",
   "execution_count": 2,
   "metadata": {
    "colab": {},
    "colab_type": "code",
    "id": "4c5EYPsuNThg"
   },
   "outputs": [],
   "source": [
    "name_list = ['airplane', 'automobile', 'bird', 'cat', 'deer', 'dog', 'frog', 'horse', 'ship', 'truck']"
   ]
  },
  {
   "cell_type": "code",
   "execution_count": 3,
   "metadata": {
    "colab": {
     "base_uri": "https://localhost:8080/",
     "height": 50
    },
    "colab_type": "code",
    "id": "ITug7sp2TAr5",
    "outputId": "9ebb87c7-e4cd-440b-a71d-368c9cd29c4a"
   },
   "outputs": [],
   "source": [
    "(X_train, y_train0), (X_test, y_test0) = datasets.cifar10.load_data()\n",
    "\n",
    "#標準化 \n",
    "X_train = X_train / X_train.max()\n",
    "X_test = X_test / X_test.max()\n",
    "\n",
    "# One-hot encoding\n",
    "y_train = to_categorical(y_train0, 10)\n",
    "y_test = to_categorical(y_test0, 10)"
   ]
  },
  {
   "cell_type": "code",
   "execution_count": 4,
   "metadata": {
    "colab": {
     "base_uri": "https://localhost:8080/",
     "height": 264
    },
    "colab_type": "code",
    "id": "CnRkalOEMx8U",
    "outputId": "98b192b3-4661-4b63-a03d-b2d2590b563f"
   },
   "outputs": [
    {
     "data": {
      "image/png": "[encoded data removed]",
      "text/plain": [
       "<Figure size 432x288 with 1 Axes>"
      ]
     },
     "metadata": {
      "needs_background": "light"
     },
     "output_type": "display_data"
    }
   ],
   "source": [
    "idx = np.random.randint(X_train.shape[0])\n",
    "X_sample = X_train[idx]\n",
    "y_sample = y_train0[idx].squeeze()\n",
    "\n",
    "plt.imshow(X_sample)\n",
    "plt.title(name_list[y_sample])\n",
    "plt.axis('off');\n"
   ]
  },
  {
   "cell_type": "markdown",
   "metadata": {
    "colab_type": "text",
    "id": "swp6zTOST8gD"
   },
   "source": [
    "## 建立卷積神經網路"
   ]
  },
  {
   "cell_type": "markdown",
   "metadata": {},
   "source": [
    "修改部分：將卷積層的filter數量改為9, 81, 243，並將全連接層的神經元數量下修至128。"
   ]
  },
  {
   "cell_type": "code",
   "execution_count": 5,
   "metadata": {
    "colab": {},
    "colab_type": "code",
    "id": "14YYzYYwcKpE"
   },
   "outputs": [],
   "source": [
    "CNN_layers = [Conv2D(9, (3, 3), input_shape=(32, 32, 3), padding='same', activation='relu', name='Conv_1'),\n",
    "              MaxPool2D(),\n",
    "              Conv2D(81, (3, 3), padding='same', activation='relu', name='Conv_2'),\n",
    "              MaxPool2D(),\n",
    "              Conv2D(243, (3, 3), padding='same', activation='relu', name='Conv_3'),\n",
    "              GlobalAveragePooling2D()]\n",
    "\n",
    "FC_layers = [Dense(units=128, activation='relu'),\n",
    "             Dense(units=10, activation='softmax')]"
   ]
  },
  {
   "cell_type": "code",
   "execution_count": 6,
   "metadata": {
    "colab": {
     "base_uri": "https://localhost:8080/",
     "height": 420
    },
    "colab_type": "code",
    "id": "43XOpYqROKzD",
    "outputId": "9fc405a4-992e-4f00-bc0a-843110a06fff"
   },
   "outputs": [
    {
     "name": "stdout",
     "output_type": "stream",
     "text": [
      "Model: \"sequential\"\n",
      "_________________________________________________________________\n",
      "Layer (type)                 Output Shape              Param #   \n",
      "=================================================================\n",
      "Conv_1 (Conv2D)              (None, 32, 32, 9)         252       \n",
      "_________________________________________________________________\n",
      "max_pooling2d (MaxPooling2D) (None, 16, 16, 9)         0         \n",
      "_________________________________________________________________\n",
      "Conv_2 (Conv2D)              (None, 16, 16, 81)        6642      \n",
      "_________________________________________________________________\n",
      "max_pooling2d_1 (MaxPooling2 (None, 8, 8, 81)          0         \n",
      "_________________________________________________________________\n",
      "Conv_3 (Conv2D)              (None, 8, 8, 243)         177390    \n",
      "_________________________________________________________________\n",
      "global_average_pooling2d (Gl (None, 243)               0         \n",
      "_________________________________________________________________\n",
      "dense (Dense)                (None, 128)               31232     \n",
      "_________________________________________________________________\n",
      "dense_1 (Dense)              (None, 10)                1290      \n",
      "=================================================================\n",
      "Total params: 216,806\n",
      "Trainable params: 216,806\n",
      "Non-trainable params: 0\n",
      "_________________________________________________________________\n"
     ]
    }
   ],
   "source": [
    "model = Sequential(CNN_layers+FC_layers)\n",
    "model.summary()"
   ]
  },
  {
   "cell_type": "markdown",
   "metadata": {
    "colab_type": "text",
    "id": "GWdFSj9OcYWl"
   },
   "source": [
    "### 編譯模型: 設定模型訓練時的設定\n",
    "\n",
    "- Optimizer: Stochastic Gradient Descent (SGD)\n",
    "- Loss: categorical cross-entropy "
   ]
  },
  {
   "cell_type": "code",
   "execution_count": 7,
   "metadata": {
    "colab": {},
    "colab_type": "code",
    "id": "86fvl2DHcKwj"
   },
   "outputs": [],
   "source": [
    "model.compile(loss='categorical_crossentropy', \n",
    "              optimizer=Adam(),\n",
    "              metrics=['categorical_accuracy'])"
   ]
  },
  {
   "cell_type": "markdown",
   "metadata": {
    "colab_type": "text",
    "id": "-Zz5yHOzdUgv"
   },
   "source": [
    "### 訓練模型: 透過訓練來學習分類資料的函數\n",
    "\n",
    "修改部分: 將batch size改為80 epochs改成4次"
   ]
  },
  {
   "cell_type": "code",
   "execution_count": 8,
   "metadata": {
    "colab": {
     "base_uri": "https://localhost:8080/",
     "height": 134
    },
    "colab_type": "code",
    "id": "LVdaaVOJcKrk",
    "outputId": "0d5c796c-884f-4abb-8434-782349c01946"
   },
   "outputs": [
    {
     "name": "stdout",
     "output_type": "stream",
     "text": [
      "Train on 50000 samples, validate on 10000 samples\n",
      "Epoch 1/4\n",
      "50000/50000 [==============================] - 293s 6ms/sample - loss: 1.7962 - categorical_accuracy: 0.3166 - val_loss: 1.5583 - val_categorical_accuracy: 0.4165\n",
      "Epoch 2/4\n",
      "50000/50000 [==============================] - 300s 6ms/sample - loss: 1.5002 - categorical_accuracy: 0.4450 - val_loss: 1.5846 - val_categorical_accuracy: 0.4338\n",
      "Epoch 3/4\n",
      "50000/50000 [==============================] - 288s 6ms/sample - loss: 1.3794 - categorical_accuracy: 0.4926 - val_loss: 1.3043 - val_categorical_accuracy: 0.5287\n",
      "Epoch 4/4\n",
      "50000/50000 [==============================] - 280s 6ms/sample - loss: 1.2874 - categorical_accuracy: 0.5352 - val_loss: 1.2335 - val_categorical_accuracy: 0.5587\n"
     ]
    },
    {
     "data": {
      "text/plain": [
       "<tensorflow.python.keras.callbacks.History at 0x1aece853b08>"
      ]
     },
     "execution_count": 8,
     "metadata": {},
     "output_type": "execute_result"
    }
   ],
   "source": [
    "model.fit(X_train, y_train, \n",
    "          batch_size=80, \n",
    "          epochs=4,\n",
    "          validation_data=(X_test, y_test)\n",
    "          )"
   ]
  },
  {
   "cell_type": "markdown",
   "metadata": {
    "colab_type": "text",
    "id": "5IJhvV_BSo9x"
   },
   "source": [
    "### 模型預測準確率"
   ]
  },
  {
   "cell_type": "code",
   "execution_count": 10,
   "metadata": {
    "colab": {
     "base_uri": "https://localhost:8080/",
     "height": 84
    },
    "colab_type": "code",
    "id": "btoBDRueSokB",
    "outputId": "e67ad73a-76e6-405c-8a3d-900b3e43d957"
   },
   "outputs": [
    {
     "name": "stdout",
     "output_type": "stream",
     "text": [
      "50000/50000 [==============================] - 106s 2ms/sample - loss: 1.2289 - categorical_accuracy: 0.5597\n",
      "10000/10000 [==============================] - 21s 2ms/sample - loss: 1.2335 - categorical_accuracy: 0.5587\n",
      "Train Accuracy: 55.9719979763031\n",
      "Test Accuracy: 55.87000250816345\n"
     ]
    }
   ],
   "source": [
    "score_train = model.evaluate(X_train, y_train)\n",
    "score_test = model.evaluate(X_test, y_test)\n",
    "\n",
    "print(f'Train Accuracy: {score_train[1]*100}')\n",
    "print(f'Test Accuracy: {score_test[1]*100}')"
   ]
  },
  {
   "cell_type": "code",
   "execution_count": 0,
   "metadata": {
    "colab": {},
    "colab_type": "code",
    "id": "mV_jjr02p6Uz"
   },
   "outputs": [],
   "source": []
  },
  {
   "cell_type": "markdown",
   "metadata": {
    "colab_type": "text",
    "id": "W5Vf7bbrQIQc"
   },
   "source": [
    "## 遷移學習"
   ]
  },
  {
   "cell_type": "code",
   "execution_count": 11,
   "metadata": {
    "colab": {
     "base_uri": "https://localhost:8080/",
     "height": 50
    },
    "colab_type": "code",
    "id": "OmOkvmGXLjMo",
    "outputId": "1509cb1d-3a3a-4af8-8bb8-0ed55add458a"
   },
   "outputs": [
    {
     "name": "stdout",
     "output_type": "stream",
     "text": [
      "Downloading data from https://www.cs.toronto.edu/~kriz/cifar-100-python.tar.gz\n",
      "169009152/169001437 [==============================] - 81s 0us/step\n"
     ]
    }
   ],
   "source": [
    "# 導入cifar100的資料\n",
    "(U_train, v_train0), (U_test, v_test0) = datasets.cifar100.load_data()\n",
    "\n",
    "# 標準化\n",
    "U_train = U_train / U_train.max()\n",
    "U_test = U_test / U_test.max()\n",
    "\n",
    "# One-hot encoding\n",
    "v_train = to_categorical(v_train0, 100)\n",
    "v_test = to_categorical(v_test0, 100)"
   ]
  },
  {
   "cell_type": "markdown",
   "metadata": {},
   "source": [
    "### 用frozen的方式訓練\n",
    "新增cifar100的全連接層，神經元分別為128,64,100"
   ]
  },
  {
   "cell_type": "code",
   "execution_count": 12,
   "metadata": {
    "colab": {},
    "colab_type": "code",
    "id": "-Q1B1e96Z7p8"
   },
   "outputs": [],
   "source": [
    "for layer in CNN_layers:\n",
    "    layer.trainable = False"
   ]
  },
  {
   "cell_type": "code",
   "execution_count": 13,
   "metadata": {
    "colab": {},
    "colab_type": "code",
    "id": "qd-lSV5rSJYX"
   },
   "outputs": [],
   "source": [
    "FC_layers_CF100 = [Dense(units=128, activation='relu'),\n",
    "                   Dense(units=64, activation='relu'),\n",
    "                   Dense(units=100, activation='softmax')]"
   ]
  },
  {
   "cell_type": "code",
   "execution_count": 14,
   "metadata": {
    "colab": {
     "base_uri": "https://localhost:8080/",
     "height": 454
    },
    "colab_type": "code",
    "id": "oF_YvZpEZuGD",
    "outputId": "99d6ebbc-1b9f-4777-ea7b-2efbfb5f7e6c"
   },
   "outputs": [
    {
     "name": "stdout",
     "output_type": "stream",
     "text": [
      "Model: \"sequential_1\"\n",
      "_________________________________________________________________\n",
      "Layer (type)                 Output Shape              Param #   \n",
      "=================================================================\n",
      "Conv_1 (Conv2D)              (None, 32, 32, 9)         252       \n",
      "_________________________________________________________________\n",
      "max_pooling2d (MaxPooling2D) (None, 16, 16, 9)         0         \n",
      "_________________________________________________________________\n",
      "Conv_2 (Conv2D)              (None, 16, 16, 81)        6642      \n",
      "_________________________________________________________________\n",
      "max_pooling2d_1 (MaxPooling2 (None, 8, 8, 81)          0         \n",
      "_________________________________________________________________\n",
      "Conv_3 (Conv2D)              (None, 8, 8, 243)         177390    \n",
      "_________________________________________________________________\n",
      "global_average_pooling2d (Gl (None, 243)               0         \n",
      "_________________________________________________________________\n",
      "dense_2 (Dense)              (None, 128)               31232     \n",
      "_________________________________________________________________\n",
      "dense_3 (Dense)              (None, 64)                8256      \n",
      "_________________________________________________________________\n",
      "dense_4 (Dense)              (None, 100)               6500      \n",
      "=================================================================\n",
      "Total params: 230,272\n",
      "Trainable params: 45,988\n",
      "Non-trainable params: 184,284\n",
      "_________________________________________________________________\n"
     ]
    }
   ],
   "source": [
    "model_CF100 = Sequential(CNN_layers+FC_layers_CF100)\n",
    "model_CF100.summary()"
   ]
  },
  {
   "cell_type": "markdown",
   "metadata": {
    "colab_type": "text",
    "id": "X2tE6ef-a65s"
   },
   "source": [
    "### 遷移學習的訓練方式\n",
    "* Fine-tune: 新資料集的樣本數夠多，整個模型重新訓練\n",
    "* Frozen: 當新資料集的樣本數不夠多，凍結借來的部分，只針對新建立的神經網路層訓練"
   ]
  },
  {
   "cell_type": "code",
   "execution_count": 15,
   "metadata": {
    "colab": {},
    "colab_type": "code",
    "id": "Bu6OYc8PbfHA"
   },
   "outputs": [
    {
     "name": "stdout",
     "output_type": "stream",
     "text": [
      "Train on 50000 samples, validate on 10000 samples\n",
      "Epoch 1/4\n",
      "50000/50000 [==============================] - 170s 3ms/sample - loss: 3.9132 - categorical_accuracy: 0.0985 - val_loss: 3.6273 - val_categorical_accuracy: 0.1395\n",
      "Epoch 2/4\n",
      "50000/50000 [==============================] - 162s 3ms/sample - loss: 3.5161 - categorical_accuracy: 0.1594 - val_loss: 3.4249 - val_categorical_accuracy: 0.1778\n",
      "Epoch 3/4\n",
      "50000/50000 [==============================] - 163s 3ms/sample - loss: 3.3605 - categorical_accuracy: 0.1860 - val_loss: 3.3207 - val_categorical_accuracy: 0.1989\n",
      "Epoch 4/4\n",
      "50000/50000 [==============================] - 166s 3ms/sample - loss: 3.2619 - categorical_accuracy: 0.2048 - val_loss: 3.2306 - val_categorical_accuracy: 0.2129\n"
     ]
    },
    {
     "data": {
      "text/plain": [
       "<tensorflow.python.keras.callbacks.History at 0x1aed5963dc8>"
      ]
     },
     "execution_count": 15,
     "metadata": {},
     "output_type": "execute_result"
    }
   ],
   "source": [
    "model_CF100.compile(loss='categorical_crossentropy', \n",
    "                    optimizer=Adam(),\n",
    "                    metrics=['categorical_accuracy'])\n",
    "\n",
    "model_CF100.fit(U_train, v_train,\n",
    "                batch_size=80, \n",
    "                epochs=4,\n",
    "                validation_data=(U_test, v_test)\n",
    "                )"
   ]
  },
  {
   "cell_type": "markdown",
   "metadata": {
    "colab_type": "text",
    "id": "MlZsfofSb5k1"
   },
   "source": [
    "### 查看準確率"
   ]
  },
  {
   "cell_type": "code",
   "execution_count": 17,
   "metadata": {
    "colab": {
     "base_uri": "https://localhost:8080/",
     "height": 84
    },
    "colab_type": "code",
    "id": "7dOhdwRrdAwt",
    "outputId": "74930cc2-1e1f-42c1-e829-9c13cfe3f56a"
   },
   "outputs": [
    {
     "name": "stdout",
     "output_type": "stream",
     "text": [
      "50000/50000 [==============================] - 133s 3ms/sample - loss: 3.1998 - categorical_accuracy: 0.2166\n",
      "10000/10000 [==============================] - 32s 3ms/sample - loss: 3.2306 - categorical_accuracy: 0.2129\n",
      "Train Accuracy: 21.663999557495117\n",
      "Test Accuracy: 21.289999783039093\n"
     ]
    }
   ],
   "source": [
    "score_train = model_CF100.evaluate(U_train, v_train)\n",
    "score_test = model_CF100.evaluate(U_test, v_test)\n",
    "\n",
    "print(f'Train Accuracy: {score_train[1]*100}')\n",
    "print(f'Test Accuracy: {score_test[1]*100}')"
   ]
  },
  {
   "cell_type": "markdown",
   "metadata": {
    "colab_type": "text",
    "id": "ysYktss3dE4J"
   },
   "source": [
    "### 查看舊模型準確率是否受影響\n",
    "舊模型表現不變，因為訓練方式使用frozen，沒有再將借來的網路重新訓練"
   ]
  },
  {
   "cell_type": "code",
   "execution_count": 20,
   "metadata": {
    "colab": {
     "base_uri": "https://localhost:8080/",
     "height": 84
    },
    "colab_type": "code",
    "id": "8jYVEtgJvBIe",
    "outputId": "a1b9b095-a302-4fa9-8fa6-ab075ec62247"
   },
   "outputs": [
    {
     "name": "stdout",
     "output_type": "stream",
     "text": [
      "50000/50000 [==============================] - 113s 2ms/sample - loss: 1.2289 - categorical_accuracy: 0.5597\n",
      "10000/10000 [==============================] - 24s 2ms/sample - loss: 1.2335 - categorical_accuracy: 0.5587\n",
      "Train Accuracy: 55.9719979763031\n",
      "Test Accuracy: 55.87000250816345\n"
     ]
    }
   ],
   "source": [
    "score_train = model.evaluate(X_train, y_train)\n",
    "score_test = model.evaluate(X_test, y_test)\n",
    "print(f'Train Accuracy: {score_train[1]*100}')\n",
    "print(f'Test Accuracy: {score_test[1]*100}')"
   ]
  },
  {
   "cell_type": "code",
   "execution_count": 0,
   "metadata": {
    "colab": {},
    "colab_type": "code",
    "id": "XVErcleXjv3R"
   },
   "outputs": [],
   "source": []
  }
 ],
 "metadata": {
  "accelerator": "GPU",
  "colab": {
   "collapsed_sections": [
    "OSew6gi3goiy"
   ],
   "machine_shape": "hm",
   "name": "20200513 Keras進階技巧：Sequential 的另一種用法",
   "provenance": []
  },
  "kernelspec": {
   "display_name": "Python 3",
   "language": "python",
   "name": "python3"
  },
  "language_info": {
   "codemirror_mode": {
    "name": "ipython",
    "version": 3
   },
   "file_extension": ".py",
   "mimetype": "text/x-python",
   "name": "python",
   "nbconvert_exporter": "python",
   "pygments_lexer": "ipython3",
   "version": "3.7.4"
  }
 },
 "nbformat": 4,
 "nbformat_minor": 1
}
